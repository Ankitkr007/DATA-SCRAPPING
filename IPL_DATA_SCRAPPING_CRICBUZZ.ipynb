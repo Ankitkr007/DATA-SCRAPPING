{
  "nbformat": 4,
  "nbformat_minor": 0,
  "metadata": {
    "colab": {
      "provenance": []
    },
    "kernelspec": {
      "name": "python3",
      "display_name": "Python 3"
    },
    "language_info": {
      "name": "python"
    }
  },
  "cells": [
    {
      "cell_type": "code",
      "execution_count": 1,
      "metadata": {
        "id": "835khv9bU5jp"
      },
      "outputs": [],
      "source": [
        "import requests\n",
        "import pandas as pd\n",
        "from bs4 import BeautifulSoup as bs"
      ]
    },
    {
      "cell_type": "code",
      "source": [
        "url = \"https://m.cricbuzz.com/cricket-series/apps/ipl-2022/auction/teams/58#top\""
      ],
      "metadata": {
        "id": "13RrEJi0VHZl"
      },
      "execution_count": 2,
      "outputs": []
    },
    {
      "cell_type": "code",
      "source": [
        "response=requests.get(url)"
      ],
      "metadata": {
        "id": "NBE4QdFnVLe-"
      },
      "execution_count": 3,
      "outputs": []
    },
    {
      "cell_type": "code",
      "source": [
        "response"
      ],
      "metadata": {
        "colab": {
          "base_uri": "https://localhost:8080/"
        },
        "id": "mW-18Zt1Vgdj",
        "outputId": "4c15f031-6778-47bb-f7ba-108765ca21a0"
      },
      "execution_count": 4,
      "outputs": [
        {
          "output_type": "execute_result",
          "data": {
            "text/plain": [
              "<Response [200]>"
            ]
          },
          "metadata": {},
          "execution_count": 4
        }
      ]
    },
    {
      "cell_type": "code",
      "source": [
        "response.text"
      ],
      "metadata": {
        "colab": {
          "base_uri": "https://localhost:8080/",
          "height": 139
        },
        "id": "K24cw84jVirn",
        "outputId": "22fdf61c-9f06-4aef-9c8c-74105c15170f"
      },
      "execution_count": 7,
      "outputs": [
        {
          "output_type": "execute_result",
          "data": {
            "text/plain": [
              "'\\r\\n\\n\\n<!DOCTYPE html><html lang=\"en\" ng-app=\"CB\"><head><meta charset=\"utf-8\"><meta http-equiv=\"X-UA-Compatible\" content=\"IE=edge\"><meta name=\"viewport\" content=\"width=device-width, initial-scale=1\"><meta property=\"fb:app_id\" content=\"30119633160\" /><meta property=\"og:site_name\" content=\"Cricbuzz\" /><meta property=\"og:email\" content=\"webmaster@cricbuzz.com\" /><meta name=\"twitter:site\" content=\"@cricbuzz\" /><meta name=\"twitter:domain\" content=\"cricbuzz.com\" /><meta name=\"author\" content=\"\"><link rel=\"shortcut icon\" type=\"image/x-icon\" href=\"https://www.cricbuzz.com/images/cric_ball.ico\" /><link rel=\"stylesheet\" type=\"text/css\" href=\"/cricket-series/dist/css/cricbuzz.min.1680875415.css\" /><script>var PAGE_NAME = \"auction-teams-details\";\\tvar CBQueue = CBQueue || [];\\tvar CBQueueOnLoad = CBQueueOnLoad || [];</script><style>.bg-sold{background:#4A90E2 !important;} .bg-rtm{background: #F5A623 !important;} .bg-unsold{background: #4A4A4A !important;} .bg-bids{background: #9BCB5C !important;} .cb-mobile-nav-collapse li {width: 25%} .cb-mobile-nav-collapse li a { line-height: 43px;height: 43px;font-size: 16px;} .cb-mobile-nav-collapse li a:hover {font-weight: bold;background: #00b48a;} .auction-teams-details{font-weight: bold;background: #00b48a;border-bottom:4px solid #FFF;} .cb-mobile-nav{background:#00b48a !important;height:44px;}\\t.navbar-nav{margin:0px}\\t/*.stateImg{background: url(\"/cricket-series/images/auctions.png\") 0 0 no-repeat;width:150px;height:74px;}\\t.img-sold{background-position: -278px 0px;}\\t.img-rtm{background-position: 0 0px;}\\t.img-unsold{background-position: -144px 0px;}*/\\t.lightheader{background: #9caab8 !important;}\\t/*.cb-list-main-header{background:#4a4a4a;color:#777;}*/\\ta.list-group-item{\\tbox-shadow: 0 0 2px 0 rgba(0,0,0,0.12), 0 2px 2px 0 rgba(0,0,0,0.24);\\tborder:none;margin: 0px 3px;border-radius:2px;\\t}</style></head><body onload=\"window.top.location = \\'#top\\';\"><div class=\"container-fluid \" style=\"padding: 0px;\\t\"><div id=\"top\" class=\"navbar navbar-static-top cb-mobile-nav\" style=\"margin-bottom:5px;\" ><ul class=\"nav navbar-nav cb-navbar-nav cb-mobile-nav-collapse \" ><li><a href=\"/cricket-series/apps/ipl-2022/auction\" class=\"auction-live\" title=\"Live\">Live</a></li><li><a href=\"/cricket-series/apps/ipl-2022/auction/completed\" class=\"auction-completed\" title=\"Completed\">Completed</a></li><li><a href=\"/cricket-series/apps/ipl-2022/auction/teams\" class=\"auction-teams auction-teams-details\" title=\"Teams\">Teams</a></li><li><a href=\"/cricket-series/apps/ipl-2022/auction/players\" class=\"auction-players auction-players-detail \"title=\"Players\">Players</a></li></ul></div><div class=\"list-group\" style=\"margin-bottom:0px\"> <h3 class=\\'cb-list-main-header\\'>CSK Squads</h3><div class=\"row cb-list-main-header lightheader\"> <div class=\" col-xs-8\">Player</div> <div class=\" col-xs-4 text-center\">Final Price</div></div><div class=\"list-group-item\"><div class=\"row\"><div class=\"col-xs-2 col-lg-2 cb-col-image\"><img class=\"img-responsive img-circle\" src=\"https://m.cricbuzz.com/a/img/v1/i1/c587/i.jpg?itemType=player\" style=\"padding:0px;\" /></div><div class=\"col-xs-6 cb-col-text-container\"><h3 class=\"cb-list-heading\">Ravindra Jadeja</h3><p class=\"cb-list-intro-text\">Allrounder &bull; India</p></div><div class=\"col-xs-4 cb-col-text-container text-center\">\\t16.00&nbsp;&nbsp;Crore <div class=\"badge bg-rtm\"> RETAINED </div> </div></div></div><div class=\"list-group-item\"><div class=\"row\"><div class=\"col-xs-2 col-lg-2 cb-col-image\"><img class=\"img-responsive img-circle\" src=\"https://m.cricbuzz.com/a/img/v1/i1/c10100/i.jpg?itemType=player\" style=\"padding:0px;\" /></div><div class=\"col-xs-6 cb-col-text-container\"><h3 class=\"cb-list-heading\">Mitchell Santner<img src=\"/images/cricbuzz/away.png\" width=\"12px\" style=\"margin-left:2px\"></h3><p class=\"cb-list-intro-text\">Allrounder &bull; New Zealand</p></div><div class=\"col-xs-4 cb-col-text-container text-center\">\\t1.90&nbsp;&nbsp;Crore <div class=\"badge bg-rtm\"> RETAINED </div> </div></div></div><div class=\"list-group-item\"><div class=\"row\"><div class=\"col-xs-2 col-lg-2 cb-col-image\"><img class=\"img-responsive img-circle\" src=\"https://m.cricbuzz.com/a/img/v1/i1/c6692/i.jpg?itemType=player\" style=\"padding:0px;\" /></div><div class=\"col-xs-6 cb-col-text-container\"><h3 class=\"cb-list-heading\">Moeen Ali<img src=\"/images/cricbuzz/away.png\" width=\"12px\" style=\"margin-left:2px\"></h3><p class=\"cb-list-intro-text\">Allrounder &bull; England</p></div><div class=\"col-xs-4 cb-col-text-container text-center\">\\t8.00&nbsp;&nbsp;Crore <div class=\"badge bg-rtm\"> RETAINED </div> </div></div></div><div class=\"list-group-item\"><div class=\"row\"><div class=\"col-xs-2 col-lg-2 cb-col-image\"><img class=\"img-responsive img-circle\" src=\"https://m.cricbuzz.com/a/img/v1/i1/c11777/i.jpg?itemType=player\" style=\"padding:0px;\" /></div><div class=\"col-xs-6 cb-col-text-container\"><h3 class=\"cb-list-heading\">Ajay Jadav Mandal</h3><p class=\"cb-list-intro-text\">Allrounder &bull; India</p></div><div class=\"col-xs-4 cb-col-text-container text-center\">\\t20.00&nbsp;&nbsp;Lakh </div></div></div><div class=\"list-group-item\"><div class=\"row\"><div class=\"col-xs-2 col-lg-2 cb-col-image\"><img class=\"img-responsive img-circle\" src=\"https://m.cricbuzz.com/a/img/v1/i1/c8651/i.jpg?itemType=player\" style=\"padding:0px;\" /></div><div class=\"col-xs-6 cb-col-text-container\"><h3 class=\"cb-list-heading\">Dwaine Pretorius<img src=\"/images/cricbuzz/away.png\" width=\"12px\" style=\"margin-left:2px\"></h3><p class=\"cb-list-intro-text\">Allrounder &bull; South Africa</p></div><div class=\"col-xs-4 cb-col-text-container text-center\">\\t50.00&nbsp;&nbsp;Lakh <div class=\"badge bg-rtm\"> RETAINED </div> </div></div></div><div class=\"list-group-item\"><div class=\"row\"><div class=\"col-xs-2 col-lg-2 cb-col-image\"><img class=\"img-responsive img-circle\" src=\"https://m.cricbuzz.com/a/img/v1/i1/c22576/i.jpg?itemType=player\" style=\"padding:0px;\" /></div><div class=\"col-xs-6 cb-col-text-container\"><h3 class=\"cb-list-heading\">Nishant Sindhu</h3><p class=\"cb-list-intro-text\">Allrounder &bull; India</p></div><div class=\"col-xs-4 cb-col-text-container text-center\">\\t60.00&nbsp;&nbsp;Lakh </div></div></div><div class=\"list-group-item\"><div class=\"row\"><div class=\"col-xs-2 col-lg-2 cb-col-image\"><img class=\"img-responsive img-circle\" src=\"https://m.cricbuzz.com/a/img/v1/i1/c11195/i.jpg?itemType=player\" style=\"padding:0px;\" /></div><div class=\"col-xs-6 cb-col-text-container\"><h3 class=\"cb-list-heading\">Shivam Dube</h3><p class=\"cb-list-intro-text\">Allrounder &bull; India</p></div><div class=\"col-xs-4 cb-col-text-container text-center\">\\t4.00&nbsp;&nbsp;Crore <div class=\"badge bg-rtm\"> RETAINED </div> </div></div></div><div class=\"list-group-item\"><div class=\"row\"><div class=\"col-xs-2 col-lg-2 cb-col-image\"><img class=\"img-responsive img-circle\" src=\"https://m.cricbuzz.com/a/img/v1/i1/c6557/i.jpg?itemType=player\" style=\"padding:0px;\" /></div><div class=\"col-xs-6 cb-col-text-container\"><h3 class=\"cb-list-heading\">Ben Stokes<img src=\"/images/cricbuzz/away.png\" width=\"12px\" style=\"margin-left:2px\"></h3><p class=\"cb-list-intro-text\">Allrounder &bull; England</p></div><div class=\"col-xs-4 cb-col-text-container text-center\">\\t16.25&nbsp;&nbsp;Crore </div></div></div><div class=\"list-group-item\"><div class=\"row\"><div class=\"col-xs-2 col-lg-2 cb-col-image\"><img class=\"img-responsive img-circle\" src=\"https://m.cricbuzz.com/a/img/v1/i1/c19253/i.jpg?itemType=player\" style=\"padding:0px;\" /></div><div class=\"col-xs-6 cb-col-text-container\"><h3 class=\"cb-list-heading\">Bhagath Varma</h3><p class=\"cb-list-intro-text\">Allrounder &bull; India</p></div><div class=\"col-xs-4 cb-col-text-container text-center\">\\t20.00&nbsp;&nbsp;Lakh </div></div></div><div class=\"list-group-item\"><div class=\"row\"><div class=\"col-xs-2 col-lg-2 cb-col-image\"><img class=\"img-responsive img-circle\" src=\"https://m.cricbuzz.com/a/img/v1/i1/c9441/i.jpg?itemType=player\" style=\"padding:0px;\" /></div><div class=\"col-xs-6 cb-col-text-container\"><h3 class=\"cb-list-heading\">Kyle Jamieson<img src=\"/images/cricbuzz/away.png\" width=\"12px\" style=\"margin-left:2px\"></h3><p class=\"cb-list-intro-text\">Allrounder &bull; New Zealand</p></div><div class=\"col-xs-4 cb-col-text-container text-center\">\\t1.00&nbsp;&nbsp;Crore </div></div></div><div class=\"list-group-item\"><div class=\"row\"><div class=\"col-xs-2 col-lg-2 cb-col-image\"><img class=\"img-responsive img-circle\" src=\"https://m.cricbuzz.com/a/img/v1/i1/c11813/i.jpg?itemType=player\" style=\"padding:0px;\" /></div><div class=\"col-xs-6 cb-col-text-container\"><h3 class=\"cb-list-heading\">Ruturaj Gaikwad</h3><p class=\"cb-list-intro-text\">Batter &bull; India</p></div><div class=\"col-xs-4 cb-col-text-container text-center\">\\t6.00&nbsp;&nbsp;Crore <div class=\"badge bg-rtm\"> RETAINED </div> </div></div></div><div class=\"list-group-item\"><div class=\"row\"><div class=\"col-xs-2 col-lg-2 cb-col-image\"><img class=\"img-responsive img-circle\" src=\"https://m.cricbuzz.com/a/img/v1/i1/c1447/i.jpg?itemType=player\" style=\"padding:0px;\" /></div><div class=\"col-xs-6 cb-col-text-container\"><h3 class=\"cb-list-heading\">Ajinkya Rahane</h3><p class=\"cb-list-intro-text\">Batter &bull; India</p></div><div class=\"col-xs-4 cb-col-text-container text-center\">\\t50.00&nbsp;&nbsp;Lakh </div></div></div><div class=\"list-group-item\"><div class=\"row\"><div class=\"col-xs-2 col-lg-2 cb-col-image\"><img class=\"img-responsive img-circle\" src=\"https://m.cricbuzz.com/a/img/v1/i1/c22571/i.jpg?itemType=player\" style=\"padding:0px;\" /></div><div class=\"col-xs-6 cb-col-text-container\"><h3 class=\"cb-list-heading\">Shaik Rasheed</h3><p class=\"cb-list-intro-text\">Batter &bull; India</p></div><div class=\"col-xs-4 cb-col-text-container text-center\">\\t20.00&nbsp;&nbsp;Lakh </div></div></div><div class=\"list-group-item\"><div class=\"row\"><div class=\"col-xs-2 col-lg-2 cb-col-image\"><img class=\"img-responsive img-circle\" src=\"https://m.cricbuzz.com/a/img/v1/i1/c11804/i.jpg?itemType=player\" style=\"padding:0px;\" /></div><div class=\"col-xs-6 cb-col-text-container\"><h3 class=\"cb-list-heading\">Subhranshu Senapati</h3><p class=\"cb-list-intro-text\">Batter &bull; India</p></div><div class=\"col-xs-4 cb-col-text-container text-center\">\\t20.00&nbsp;&nbsp;Lakh <div class=\"badge bg-rtm\"> RETAINED </div> </div></div></div><div class=\"list-group-item\"><div class=\"row\"><div class=\"col-xs-2 col-lg-2 cb-col-image\"><img class=\"img-responsive img-circle\" src=\"https://m.cricbuzz.com/a/img/v1/i1/c9838/i.jpg?itemType=player\" style=\"padding:0px;\" /></div><div class=\"col-xs-6 cb-col-text-container\"><h3 class=\"cb-list-heading\">Devon Conway<img src=\"/images/cricbuzz/away.png\" width=\"12px\" style=\"margin-left:2px\"></h3><p class=\"cb-list-intro-text\">Batter &bull; New Zealand</p></div><div class=\"col-xs-4 cb-col-text-container text-center\">\\t1.00&nbsp;&nbsp;Crore <div class=\"badge bg-rtm\"> RETAINED </div> </div></div></div><div class=\"list-group-item\"><div class=\"row\"><div class=\"col-xs-2 col-lg-2 cb-col-image\"><img class=\"img-responsive img-circle\" src=\"https://m.cricbuzz.com/a/img/v1/i1/c16458/i.jpg?itemType=player\" style=\"padding:0px;\" /></div><div class=\"col-xs-6 cb-col-text-container\"><h3 class=\"cb-list-heading\">Matheesha Pathirana<img src=\"/images/cricbuzz/away.png\" width=\"12px\" style=\"margin-left:2px\"></h3><p class=\"cb-list-intro-text\">Bowler &bull; Sri Lanka</p></div><div class=\"col-xs-4 cb-col-text-container text-center\">\\t20.00&nbsp;&nbsp;Lakh <div class=\"badge bg-rtm\"> RETAINED </div> </div></div></div><div class=\"list-group-item\"><div class=\"row\"><div class=\"col-xs-2 col-lg-2 cb-col-image\"><img class=\"img-responsive img-circle\" src=\"https://m.cricbuzz.com/a/img/v1/i1/c18504/i.jpg?itemType=player\" style=\"padding:0px;\" /></div><div class=\"col-xs-6 cb-col-text-container\"><h3 class=\"cb-list-heading\">Maheesh Theekshana<img src=\"/images/cricbuzz/away.png\" width=\"12px\" style=\"margin-left:2px\"></h3><p class=\"cb-list-intro-text\">Bowler &bull; Sri Lanka</p></div><div class=\"col-xs-4 cb-col-text-container text-center\">\\t70.00&nbsp;&nbsp;Lakh <div class=\"badge bg-rtm\"> RETAINED </div> </div></div></div><div class=\"list-group-item\"><div class=\"row\"><div class=\"col-xs-2 col-lg-2 cb-col-image\"><img class=\"img-responsive img-circle\" src=\"https://m.cricbuzz.com/a/img/v1/i1/c14599/i.jpg?itemType=player\" style=\"padding:0px;\" /></div><div class=\"col-xs-6 cb-col-text-container\"><h3 class=\"cb-list-heading\">Rajvardhan Hangargekar</h3><p class=\"cb-list-intro-text\">Bowler &bull; India</p></div><div class=\"col-xs-4 cb-col-text-container text-center\">\\t1.50&nbsp;&nbsp;Crore <div class=\"badge bg-rtm\"> RETAINED </div> </div></div></div><div class=\"list-group-item\"><div class=\"row\"><div class=\"col-xs-2 col-lg-2 cb-col-image\"><img class=\"img-responsive img-circle\" src=\"https://m.cricbuzz.com/a/img/v1/i1/c11307/i.jpg?itemType=player\" style=\"padding:0px;\" /></div><div class=\"col-xs-6 cb-col-text-container\"><h3 class=\"cb-list-heading\">Tushar Deshpande</h3><p class=\"cb-list-intro-text\">Bowler &bull; India</p></div><div class=\"col-xs-4 cb-col-text-container text-center\">\\t20.00&nbsp;&nbsp;Lakh <div class=\"badge bg-rtm\"> RETAINED </div> </div></div></div><div class=\"list-group-item\"><div class=\"row\"><div class=\"col-xs-2 col-lg-2 cb-col-image\"><img class=\"img-responsive img-circle\" src=\"https://m.cricbuzz.com/a/img/v1/i1/c7836/i.jpg?itemType=player\" style=\"padding:0px;\" /></div><div class=\"col-xs-6 cb-col-text-container\"><h3 class=\"cb-list-heading\">Deepak Chahar</h3><p class=\"cb-list-intro-text\">Bowler &bull; India</p></div><div class=\"col-xs-4 cb-col-text-container text-center\">\\t14.00&nbsp;&nbsp;Crore <div class=\"badge bg-rtm\"> RETAINED </div> </div></div></div><div class=\"list-group-item\"><div class=\"row\"><div class=\"col-xs-2 col-lg-2 cb-col-image\"><img class=\"img-responsive img-circle\" src=\"https://m.cricbuzz.com/a/img/v1/i1/c14163/i.jpg?itemType=player\" style=\"padding:0px;\" /></div><div class=\"col-xs-6 cb-col-text-container\"><h3 class=\"cb-list-heading\">Simarjeet Singh</h3><p class=\"cb-list-intro-text\">Bowler &bull; India</p></div><div class=\"col-xs-4 cb-col-text-container text-center\">\\t20.00&nbsp;&nbsp;Lakh <div class=\"badge bg-rtm\"> RETAINED </div> </div></div></div><div class=\"list-group-item\"><div class=\"row\"><div class=\"col-xs-2 col-lg-2 cb-col-image\"><img class=\"img-responsive img-circle\" src=\"https://m.cricbuzz.com/a/img/v1/i1/c13184/i.jpg?itemType=player\" style=\"padding:0px;\" /></div><div class=\"col-xs-6 cb-col-text-container\"><h3 class=\"cb-list-heading\">Mukesh Choudhary</h3><p class=\"cb-list-intro-text\">Bowler &bull; India</p></div><div class=\"col-xs-4 cb-col-text-container text-center\">\\t20.00&nbsp;&nbsp;Lakh <div class=\"badge bg-rtm\"> RETAINED </div> </div></div></div><div class=\"list-group-item\"><div class=\"row\"><div class=\"col-xs-2 col-lg-2 cb-col-image\"><img class=\"img-responsive img-circle\" src=\"https://m.cricbuzz.com/a/img/v1/i1/c12805/i.jpg?itemType=player\" style=\"padding:0px;\" /></div><div class=\"col-xs-6 cb-col-text-container\"><h3 class=\"cb-list-heading\">Prashant Solanki</h3><p class=\"cb-list-intro-text\">Bowler &bull; India</p></div><div class=\"col-xs-4 cb-col-text-container text-center\">\\t1.20&nbsp;&nbsp;Crore <div class=\"badge bg-rtm\"> RETAINED </div> </div></div></div><div class=\"list-group-item\"><div class=\"row\"><div class=\"col-xs-2 col-lg-2 cb-col-image\"><img class=\"img-responsive img-circle\" src=\"https://m.cricbuzz.com/a/img/v1/i1/c265/i.jpg?itemType=player\" style=\"padding:0px;\" /></div><div class=\"col-xs-6 cb-col-text-container\"><h3 class=\"cb-list-heading\">MS Dhoni</h3><p class=\"cb-list-intro-text\">WK-Batter &bull; India</p></div><div class=\"col-xs-4 cb-col-text-container text-center\">\\t12.00&nbsp;&nbsp;Crore <div class=\"badge bg-rtm\"> RETAINED </div> </div></div></div><div class=\"list-group-item\"><div class=\"row\"><div class=\"col-xs-2 col-lg-2 cb-col-image\"><img class=\"img-responsive img-circle\" src=\"https://m.cricbuzz.com/a/img/v1/i1/c6311/i.jpg?itemType=player\" style=\"padding:0px;\" /></div><div class=\"col-xs-6 cb-col-text-container\"><h3 class=\"cb-list-heading\">Ambati Rayudu</h3><p class=\"cb-list-intro-text\">WK-Batter &bull; India</p></div><div class=\"col-xs-4 cb-col-text-container text-center\">\\t6.75&nbsp;&nbsp;Crore <div class=\"badge bg-rtm\"> RETAINED </div> </div></div></div></div></div><script type=\"text/javascript\" src=\"/cricket-series/dist/js/cricbuzz.min.1680875415.js\"></script><script> var _comscore = _comscore || []; _comscore.push({ c1: \"2\", c2: \"6036484\" }); (function() {\\tvar s = document.createElement(\"script\"), el = document.getElementsByTagName(\"script\")[0]; s.async = true;\\ts.src = (document.location.protocol == \"https:\" ? \"https://sb\" : \"http://b\") + \".scorecardresearch.com/beacon.js\";\\tel.parentNode.insertBefore(s, el); })();</script><noscript> <img src=\"https://sb.scorecardresearch.com/p?c1=2&c2=6036484&cv=2.0&cj=1\" /></noscript> <script type=\"text/javascript\">var _gaq = _gaq || [];\\t_gaq.push([\\'_setAccount\\', \\'MO-312277-39\\']);\\t_gaq.push([\\'_setDomainName\\', \\'cricbuzz.com\\']);\\t_gaq.push([\\'_trackPageview\\']);\\t(function() {\\tvar ga = document.createElement(\\'script\\'); ga.type = \\'text/javascript\\'; ga.async = true;\\tga.src = (\\'https:\\' == document.location.protocol ? \\'https://ssl\\' : \\'http://www\\') + \\'.google-analytics.com/ga.js\\';\\tvar s = document.getElementsByTagName(\\'script\\')[0]; s.parentNode.insertBefore(ga, s);\\t})();\\twindow.onerror = function(message, file, line) { var sFormattedMessage = \\'[\\' + file + \\' (\\' + line + \\')] \\' + message; _gaq.push([\\'_trackEvent\\', \\'Exceptions\\', \\'Application\\', sFormattedMessage, null, true]);\\t}</script><script type=\"text/javascript\">var clmbtechaa = document.createElement(\\'script\\'); clmbtechaa.type = \\'text/javascript\\'; clmbtechaa.async = true;\\tclmbtechaa.src = \\'https://static.clmbtech.com/ase/9782/179/aa.js\\';\\tdocument.body.appendChild(clmbtechaa);</script> </body></html>'"
            ],
            "application/vnd.google.colaboratory.intrinsic+json": {
              "type": "string"
            }
          },
          "metadata": {},
          "execution_count": 7
        }
      ]
    },
    {
      "cell_type": "code",
      "source": [
        "content=bs(response.text,'html.parser')"
      ],
      "metadata": {
        "id": "3RoB5VcpVj3D"
      },
      "execution_count": 10,
      "outputs": []
    },
    {
      "cell_type": "code",
      "source": [
        "content"
      ],
      "metadata": {
        "colab": {
          "base_uri": "https://localhost:8080/"
        },
        "id": "SItAa4tOjo2I",
        "outputId": "4a370631-bd3b-4734-fa1e-77a252a6dffa"
      },
      "execution_count": 11,
      "outputs": [
        {
          "output_type": "execute_result",
          "data": {
            "text/plain": [
              "\n",
              "<!DOCTYPE html>\n",
              "<html lang=\"en\" ng-app=\"CB\"><head><meta charset=\"utf-8\"/><meta content=\"IE=edge\" http-equiv=\"X-UA-Compatible\"/><meta content=\"width=device-width, initial-scale=1\" name=\"viewport\"/><meta content=\"30119633160\" property=\"fb:app_id\"><meta content=\"Cricbuzz\" property=\"og:site_name\"><meta content=\"webmaster@cricbuzz.com\" property=\"og:email\"><meta content=\"@cricbuzz\" name=\"twitter:site\"/><meta content=\"cricbuzz.com\" name=\"twitter:domain\"/><meta content=\"\" name=\"author\"/><link href=\"https://www.cricbuzz.com/images/cric_ball.ico\" rel=\"shortcut icon\" type=\"image/x-icon\"/><link href=\"/cricket-series/dist/css/cricbuzz.min.1680875415.css\" rel=\"stylesheet\" type=\"text/css\"/><script>var PAGE_NAME = \"auction-teams-details\";\tvar CBQueue = CBQueue || [];\tvar CBQueueOnLoad = CBQueueOnLoad || [];</script><style>.bg-sold{background:#4A90E2 !important;} .bg-rtm{background: #F5A623 !important;} .bg-unsold{background: #4A4A4A !important;} .bg-bids{background: #9BCB5C !important;} .cb-mobile-nav-collapse li {width: 25%} .cb-mobile-nav-collapse li a { line-height: 43px;height: 43px;font-size: 16px;} .cb-mobile-nav-collapse li a:hover {font-weight: bold;background: #00b48a;} .auction-teams-details{font-weight: bold;background: #00b48a;border-bottom:4px solid #FFF;} .cb-mobile-nav{background:#00b48a !important;height:44px;}\t.navbar-nav{margin:0px}\t/*.stateImg{background: url(\"/cricket-series/images/auctions.png\") 0 0 no-repeat;width:150px;height:74px;}\t.img-sold{background-position: -278px 0px;}\t.img-rtm{background-position: 0 0px;}\t.img-unsold{background-position: -144px 0px;}*/\t.lightheader{background: #9caab8 !important;}\t/*.cb-list-main-header{background:#4a4a4a;color:#777;}*/\ta.list-group-item{\tbox-shadow: 0 0 2px 0 rgba(0,0,0,0.12), 0 2px 2px 0 rgba(0,0,0,0.24);\tborder:none;margin: 0px 3px;border-radius:2px;\t}</style></meta></meta></meta></head><body onload=\"window.top.location = '#top';\"><div class=\"container-fluid\" style=\"padding: 0px;\t\"><div class=\"navbar navbar-static-top cb-mobile-nav\" id=\"top\" style=\"margin-bottom:5px;\"><ul class=\"nav navbar-nav cb-navbar-nav cb-mobile-nav-collapse\"><li><a class=\"auction-live\" href=\"/cricket-series/apps/ipl-2022/auction\" title=\"Live\">Live</a></li><li><a class=\"auction-completed\" href=\"/cricket-series/apps/ipl-2022/auction/completed\" title=\"Completed\">Completed</a></li><li><a class=\"auction-teams auction-teams-details\" href=\"/cricket-series/apps/ipl-2022/auction/teams\" title=\"Teams\">Teams</a></li><li><a class=\"auction-players auction-players-detail\" href=\"/cricket-series/apps/ipl-2022/auction/players\" title=\"Players\">Players</a></li></ul></div><div class=\"list-group\" style=\"margin-bottom:0px\"> <h3 class=\"cb-list-main-header\">CSK Squads</h3><div class=\"row cb-list-main-header lightheader\"> <div class=\"col-xs-8\">Player</div> <div class=\"col-xs-4 text-center\">Final Price</div></div><div class=\"list-group-item\"><div class=\"row\"><div class=\"col-xs-2 col-lg-2 cb-col-image\"><img class=\"img-responsive img-circle\" src=\"https://m.cricbuzz.com/a/img/v1/i1/c587/i.jpg?itemType=player\" style=\"padding:0px;\"/></div><div class=\"col-xs-6 cb-col-text-container\"><h3 class=\"cb-list-heading\">Ravindra Jadeja</h3><p class=\"cb-list-intro-text\">Allrounder • India</p></div><div class=\"col-xs-4 cb-col-text-container text-center\">\t16.00  Crore <div class=\"badge bg-rtm\"> RETAINED </div> </div></div></div><div class=\"list-group-item\"><div class=\"row\"><div class=\"col-xs-2 col-lg-2 cb-col-image\"><img class=\"img-responsive img-circle\" src=\"https://m.cricbuzz.com/a/img/v1/i1/c10100/i.jpg?itemType=player\" style=\"padding:0px;\"/></div><div class=\"col-xs-6 cb-col-text-container\"><h3 class=\"cb-list-heading\">Mitchell Santner<img src=\"/images/cricbuzz/away.png\" style=\"margin-left:2px\" width=\"12px\"/></h3><p class=\"cb-list-intro-text\">Allrounder • New Zealand</p></div><div class=\"col-xs-4 cb-col-text-container text-center\">\t1.90  Crore <div class=\"badge bg-rtm\"> RETAINED </div> </div></div></div><div class=\"list-group-item\"><div class=\"row\"><div class=\"col-xs-2 col-lg-2 cb-col-image\"><img class=\"img-responsive img-circle\" src=\"https://m.cricbuzz.com/a/img/v1/i1/c6692/i.jpg?itemType=player\" style=\"padding:0px;\"/></div><div class=\"col-xs-6 cb-col-text-container\"><h3 class=\"cb-list-heading\">Moeen Ali<img src=\"/images/cricbuzz/away.png\" style=\"margin-left:2px\" width=\"12px\"/></h3><p class=\"cb-list-intro-text\">Allrounder • England</p></div><div class=\"col-xs-4 cb-col-text-container text-center\">\t8.00  Crore <div class=\"badge bg-rtm\"> RETAINED </div> </div></div></div><div class=\"list-group-item\"><div class=\"row\"><div class=\"col-xs-2 col-lg-2 cb-col-image\"><img class=\"img-responsive img-circle\" src=\"https://m.cricbuzz.com/a/img/v1/i1/c11777/i.jpg?itemType=player\" style=\"padding:0px;\"/></div><div class=\"col-xs-6 cb-col-text-container\"><h3 class=\"cb-list-heading\">Ajay Jadav Mandal</h3><p class=\"cb-list-intro-text\">Allrounder • India</p></div><div class=\"col-xs-4 cb-col-text-container text-center\">\t20.00  Lakh </div></div></div><div class=\"list-group-item\"><div class=\"row\"><div class=\"col-xs-2 col-lg-2 cb-col-image\"><img class=\"img-responsive img-circle\" src=\"https://m.cricbuzz.com/a/img/v1/i1/c8651/i.jpg?itemType=player\" style=\"padding:0px;\"/></div><div class=\"col-xs-6 cb-col-text-container\"><h3 class=\"cb-list-heading\">Dwaine Pretorius<img src=\"/images/cricbuzz/away.png\" style=\"margin-left:2px\" width=\"12px\"/></h3><p class=\"cb-list-intro-text\">Allrounder • South Africa</p></div><div class=\"col-xs-4 cb-col-text-container text-center\">\t50.00  Lakh <div class=\"badge bg-rtm\"> RETAINED </div> </div></div></div><div class=\"list-group-item\"><div class=\"row\"><div class=\"col-xs-2 col-lg-2 cb-col-image\"><img class=\"img-responsive img-circle\" src=\"https://m.cricbuzz.com/a/img/v1/i1/c22576/i.jpg?itemType=player\" style=\"padding:0px;\"/></div><div class=\"col-xs-6 cb-col-text-container\"><h3 class=\"cb-list-heading\">Nishant Sindhu</h3><p class=\"cb-list-intro-text\">Allrounder • India</p></div><div class=\"col-xs-4 cb-col-text-container text-center\">\t60.00  Lakh </div></div></div><div class=\"list-group-item\"><div class=\"row\"><div class=\"col-xs-2 col-lg-2 cb-col-image\"><img class=\"img-responsive img-circle\" src=\"https://m.cricbuzz.com/a/img/v1/i1/c11195/i.jpg?itemType=player\" style=\"padding:0px;\"/></div><div class=\"col-xs-6 cb-col-text-container\"><h3 class=\"cb-list-heading\">Shivam Dube</h3><p class=\"cb-list-intro-text\">Allrounder • India</p></div><div class=\"col-xs-4 cb-col-text-container text-center\">\t4.00  Crore <div class=\"badge bg-rtm\"> RETAINED </div> </div></div></div><div class=\"list-group-item\"><div class=\"row\"><div class=\"col-xs-2 col-lg-2 cb-col-image\"><img class=\"img-responsive img-circle\" src=\"https://m.cricbuzz.com/a/img/v1/i1/c6557/i.jpg?itemType=player\" style=\"padding:0px;\"/></div><div class=\"col-xs-6 cb-col-text-container\"><h3 class=\"cb-list-heading\">Ben Stokes<img src=\"/images/cricbuzz/away.png\" style=\"margin-left:2px\" width=\"12px\"/></h3><p class=\"cb-list-intro-text\">Allrounder • England</p></div><div class=\"col-xs-4 cb-col-text-container text-center\">\t16.25  Crore </div></div></div><div class=\"list-group-item\"><div class=\"row\"><div class=\"col-xs-2 col-lg-2 cb-col-image\"><img class=\"img-responsive img-circle\" src=\"https://m.cricbuzz.com/a/img/v1/i1/c19253/i.jpg?itemType=player\" style=\"padding:0px;\"/></div><div class=\"col-xs-6 cb-col-text-container\"><h3 class=\"cb-list-heading\">Bhagath Varma</h3><p class=\"cb-list-intro-text\">Allrounder • India</p></div><div class=\"col-xs-4 cb-col-text-container text-center\">\t20.00  Lakh </div></div></div><div class=\"list-group-item\"><div class=\"row\"><div class=\"col-xs-2 col-lg-2 cb-col-image\"><img class=\"img-responsive img-circle\" src=\"https://m.cricbuzz.com/a/img/v1/i1/c9441/i.jpg?itemType=player\" style=\"padding:0px;\"/></div><div class=\"col-xs-6 cb-col-text-container\"><h3 class=\"cb-list-heading\">Kyle Jamieson<img src=\"/images/cricbuzz/away.png\" style=\"margin-left:2px\" width=\"12px\"/></h3><p class=\"cb-list-intro-text\">Allrounder • New Zealand</p></div><div class=\"col-xs-4 cb-col-text-container text-center\">\t1.00  Crore </div></div></div><div class=\"list-group-item\"><div class=\"row\"><div class=\"col-xs-2 col-lg-2 cb-col-image\"><img class=\"img-responsive img-circle\" src=\"https://m.cricbuzz.com/a/img/v1/i1/c11813/i.jpg?itemType=player\" style=\"padding:0px;\"/></div><div class=\"col-xs-6 cb-col-text-container\"><h3 class=\"cb-list-heading\">Ruturaj Gaikwad</h3><p class=\"cb-list-intro-text\">Batter • India</p></div><div class=\"col-xs-4 cb-col-text-container text-center\">\t6.00  Crore <div class=\"badge bg-rtm\"> RETAINED </div> </div></div></div><div class=\"list-group-item\"><div class=\"row\"><div class=\"col-xs-2 col-lg-2 cb-col-image\"><img class=\"img-responsive img-circle\" src=\"https://m.cricbuzz.com/a/img/v1/i1/c1447/i.jpg?itemType=player\" style=\"padding:0px;\"/></div><div class=\"col-xs-6 cb-col-text-container\"><h3 class=\"cb-list-heading\">Ajinkya Rahane</h3><p class=\"cb-list-intro-text\">Batter • India</p></div><div class=\"col-xs-4 cb-col-text-container text-center\">\t50.00  Lakh </div></div></div><div class=\"list-group-item\"><div class=\"row\"><div class=\"col-xs-2 col-lg-2 cb-col-image\"><img class=\"img-responsive img-circle\" src=\"https://m.cricbuzz.com/a/img/v1/i1/c22571/i.jpg?itemType=player\" style=\"padding:0px;\"/></div><div class=\"col-xs-6 cb-col-text-container\"><h3 class=\"cb-list-heading\">Shaik Rasheed</h3><p class=\"cb-list-intro-text\">Batter • India</p></div><div class=\"col-xs-4 cb-col-text-container text-center\">\t20.00  Lakh </div></div></div><div class=\"list-group-item\"><div class=\"row\"><div class=\"col-xs-2 col-lg-2 cb-col-image\"><img class=\"img-responsive img-circle\" src=\"https://m.cricbuzz.com/a/img/v1/i1/c11804/i.jpg?itemType=player\" style=\"padding:0px;\"/></div><div class=\"col-xs-6 cb-col-text-container\"><h3 class=\"cb-list-heading\">Subhranshu Senapati</h3><p class=\"cb-list-intro-text\">Batter • India</p></div><div class=\"col-xs-4 cb-col-text-container text-center\">\t20.00  Lakh <div class=\"badge bg-rtm\"> RETAINED </div> </div></div></div><div class=\"list-group-item\"><div class=\"row\"><div class=\"col-xs-2 col-lg-2 cb-col-image\"><img class=\"img-responsive img-circle\" src=\"https://m.cricbuzz.com/a/img/v1/i1/c9838/i.jpg?itemType=player\" style=\"padding:0px;\"/></div><div class=\"col-xs-6 cb-col-text-container\"><h3 class=\"cb-list-heading\">Devon Conway<img src=\"/images/cricbuzz/away.png\" style=\"margin-left:2px\" width=\"12px\"/></h3><p class=\"cb-list-intro-text\">Batter • New Zealand</p></div><div class=\"col-xs-4 cb-col-text-container text-center\">\t1.00  Crore <div class=\"badge bg-rtm\"> RETAINED </div> </div></div></div><div class=\"list-group-item\"><div class=\"row\"><div class=\"col-xs-2 col-lg-2 cb-col-image\"><img class=\"img-responsive img-circle\" src=\"https://m.cricbuzz.com/a/img/v1/i1/c16458/i.jpg?itemType=player\" style=\"padding:0px;\"/></div><div class=\"col-xs-6 cb-col-text-container\"><h3 class=\"cb-list-heading\">Matheesha Pathirana<img src=\"/images/cricbuzz/away.png\" style=\"margin-left:2px\" width=\"12px\"/></h3><p class=\"cb-list-intro-text\">Bowler • Sri Lanka</p></div><div class=\"col-xs-4 cb-col-text-container text-center\">\t20.00  Lakh <div class=\"badge bg-rtm\"> RETAINED </div> </div></div></div><div class=\"list-group-item\"><div class=\"row\"><div class=\"col-xs-2 col-lg-2 cb-col-image\"><img class=\"img-responsive img-circle\" src=\"https://m.cricbuzz.com/a/img/v1/i1/c18504/i.jpg?itemType=player\" style=\"padding:0px;\"/></div><div class=\"col-xs-6 cb-col-text-container\"><h3 class=\"cb-list-heading\">Maheesh Theekshana<img src=\"/images/cricbuzz/away.png\" style=\"margin-left:2px\" width=\"12px\"/></h3><p class=\"cb-list-intro-text\">Bowler • Sri Lanka</p></div><div class=\"col-xs-4 cb-col-text-container text-center\">\t70.00  Lakh <div class=\"badge bg-rtm\"> RETAINED </div> </div></div></div><div class=\"list-group-item\"><div class=\"row\"><div class=\"col-xs-2 col-lg-2 cb-col-image\"><img class=\"img-responsive img-circle\" src=\"https://m.cricbuzz.com/a/img/v1/i1/c14599/i.jpg?itemType=player\" style=\"padding:0px;\"/></div><div class=\"col-xs-6 cb-col-text-container\"><h3 class=\"cb-list-heading\">Rajvardhan Hangargekar</h3><p class=\"cb-list-intro-text\">Bowler • India</p></div><div class=\"col-xs-4 cb-col-text-container text-center\">\t1.50  Crore <div class=\"badge bg-rtm\"> RETAINED </div> </div></div></div><div class=\"list-group-item\"><div class=\"row\"><div class=\"col-xs-2 col-lg-2 cb-col-image\"><img class=\"img-responsive img-circle\" src=\"https://m.cricbuzz.com/a/img/v1/i1/c11307/i.jpg?itemType=player\" style=\"padding:0px;\"/></div><div class=\"col-xs-6 cb-col-text-container\"><h3 class=\"cb-list-heading\">Tushar Deshpande</h3><p class=\"cb-list-intro-text\">Bowler • India</p></div><div class=\"col-xs-4 cb-col-text-container text-center\">\t20.00  Lakh <div class=\"badge bg-rtm\"> RETAINED </div> </div></div></div><div class=\"list-group-item\"><div class=\"row\"><div class=\"col-xs-2 col-lg-2 cb-col-image\"><img class=\"img-responsive img-circle\" src=\"https://m.cricbuzz.com/a/img/v1/i1/c7836/i.jpg?itemType=player\" style=\"padding:0px;\"/></div><div class=\"col-xs-6 cb-col-text-container\"><h3 class=\"cb-list-heading\">Deepak Chahar</h3><p class=\"cb-list-intro-text\">Bowler • India</p></div><div class=\"col-xs-4 cb-col-text-container text-center\">\t14.00  Crore <div class=\"badge bg-rtm\"> RETAINED </div> </div></div></div><div class=\"list-group-item\"><div class=\"row\"><div class=\"col-xs-2 col-lg-2 cb-col-image\"><img class=\"img-responsive img-circle\" src=\"https://m.cricbuzz.com/a/img/v1/i1/c14163/i.jpg?itemType=player\" style=\"padding:0px;\"/></div><div class=\"col-xs-6 cb-col-text-container\"><h3 class=\"cb-list-heading\">Simarjeet Singh</h3><p class=\"cb-list-intro-text\">Bowler • India</p></div><div class=\"col-xs-4 cb-col-text-container text-center\">\t20.00  Lakh <div class=\"badge bg-rtm\"> RETAINED </div> </div></div></div><div class=\"list-group-item\"><div class=\"row\"><div class=\"col-xs-2 col-lg-2 cb-col-image\"><img class=\"img-responsive img-circle\" src=\"https://m.cricbuzz.com/a/img/v1/i1/c13184/i.jpg?itemType=player\" style=\"padding:0px;\"/></div><div class=\"col-xs-6 cb-col-text-container\"><h3 class=\"cb-list-heading\">Mukesh Choudhary</h3><p class=\"cb-list-intro-text\">Bowler • India</p></div><div class=\"col-xs-4 cb-col-text-container text-center\">\t20.00  Lakh <div class=\"badge bg-rtm\"> RETAINED </div> </div></div></div><div class=\"list-group-item\"><div class=\"row\"><div class=\"col-xs-2 col-lg-2 cb-col-image\"><img class=\"img-responsive img-circle\" src=\"https://m.cricbuzz.com/a/img/v1/i1/c12805/i.jpg?itemType=player\" style=\"padding:0px;\"/></div><div class=\"col-xs-6 cb-col-text-container\"><h3 class=\"cb-list-heading\">Prashant Solanki</h3><p class=\"cb-list-intro-text\">Bowler • India</p></div><div class=\"col-xs-4 cb-col-text-container text-center\">\t1.20  Crore <div class=\"badge bg-rtm\"> RETAINED </div> </div></div></div><div class=\"list-group-item\"><div class=\"row\"><div class=\"col-xs-2 col-lg-2 cb-col-image\"><img class=\"img-responsive img-circle\" src=\"https://m.cricbuzz.com/a/img/v1/i1/c265/i.jpg?itemType=player\" style=\"padding:0px;\"/></div><div class=\"col-xs-6 cb-col-text-container\"><h3 class=\"cb-list-heading\">MS Dhoni</h3><p class=\"cb-list-intro-text\">WK-Batter • India</p></div><div class=\"col-xs-4 cb-col-text-container text-center\">\t12.00  Crore <div class=\"badge bg-rtm\"> RETAINED </div> </div></div></div><div class=\"list-group-item\"><div class=\"row\"><div class=\"col-xs-2 col-lg-2 cb-col-image\"><img class=\"img-responsive img-circle\" src=\"https://m.cricbuzz.com/a/img/v1/i1/c6311/i.jpg?itemType=player\" style=\"padding:0px;\"/></div><div class=\"col-xs-6 cb-col-text-container\"><h3 class=\"cb-list-heading\">Ambati Rayudu</h3><p class=\"cb-list-intro-text\">WK-Batter • India</p></div><div class=\"col-xs-4 cb-col-text-container text-center\">\t6.75  Crore <div class=\"badge bg-rtm\"> RETAINED </div> </div></div></div></div></div><script src=\"/cricket-series/dist/js/cricbuzz.min.1680875415.js\" type=\"text/javascript\"></script><script> var _comscore = _comscore || []; _comscore.push({ c1: \"2\", c2: \"6036484\" }); (function() {\tvar s = document.createElement(\"script\"), el = document.getElementsByTagName(\"script\")[0]; s.async = true;\ts.src = (document.location.protocol == \"https:\" ? \"https://sb\" : \"http://b\") + \".scorecardresearch.com/beacon.js\";\tel.parentNode.insertBefore(s, el); })();</script><noscript> <img src=\"https://sb.scorecardresearch.com/p?c1=2&amp;c2=6036484&amp;cv=2.0&amp;cj=1\"/></noscript> <script type=\"text/javascript\">var _gaq = _gaq || [];\t_gaq.push(['_setAccount', 'MO-312277-39']);\t_gaq.push(['_setDomainName', 'cricbuzz.com']);\t_gaq.push(['_trackPageview']);\t(function() {\tvar ga = document.createElement('script'); ga.type = 'text/javascript'; ga.async = true;\tga.src = ('https:' == document.location.protocol ? 'https://ssl' : 'http://www') + '.google-analytics.com/ga.js';\tvar s = document.getElementsByTagName('script')[0]; s.parentNode.insertBefore(ga, s);\t})();\twindow.onerror = function(message, file, line) { var sFormattedMessage = '[' + file + ' (' + line + ')] ' + message; _gaq.push(['_trackEvent', 'Exceptions', 'Application', sFormattedMessage, null, true]);\t}</script><script type=\"text/javascript\">var clmbtechaa = document.createElement('script'); clmbtechaa.type = 'text/javascript'; clmbtechaa.async = true;\tclmbtechaa.src = 'https://static.clmbtech.com/ase/9782/179/aa.js';\tdocument.body.appendChild(clmbtechaa);</script> </body></html>"
            ]
          },
          "metadata": {},
          "execution_count": 11
        }
      ]
    },
    {
      "cell_type": "code",
      "source": [
        "scrap=content.find_all('h3',attrs={'class':'cb-list-heading'})\n",
        "scrap"
      ],
      "metadata": {
        "colab": {
          "base_uri": "https://localhost:8080/"
        },
        "id": "DCwtADp3jpur",
        "outputId": "e7b23d2a-6a71-4dd1-e01f-e0cc56efea37"
      },
      "execution_count": 16,
      "outputs": [
        {
          "output_type": "execute_result",
          "data": {
            "text/plain": [
              "[<h3 class=\"cb-list-heading\">Ravindra Jadeja</h3>,\n",
              " <h3 class=\"cb-list-heading\">Mitchell Santner<img src=\"/images/cricbuzz/away.png\" style=\"margin-left:2px\" width=\"12px\"/></h3>,\n",
              " <h3 class=\"cb-list-heading\">Moeen Ali<img src=\"/images/cricbuzz/away.png\" style=\"margin-left:2px\" width=\"12px\"/></h3>,\n",
              " <h3 class=\"cb-list-heading\">Ajay Jadav Mandal</h3>,\n",
              " <h3 class=\"cb-list-heading\">Dwaine Pretorius<img src=\"/images/cricbuzz/away.png\" style=\"margin-left:2px\" width=\"12px\"/></h3>,\n",
              " <h3 class=\"cb-list-heading\">Nishant Sindhu</h3>,\n",
              " <h3 class=\"cb-list-heading\">Shivam Dube</h3>,\n",
              " <h3 class=\"cb-list-heading\">Ben Stokes<img src=\"/images/cricbuzz/away.png\" style=\"margin-left:2px\" width=\"12px\"/></h3>,\n",
              " <h3 class=\"cb-list-heading\">Bhagath Varma</h3>,\n",
              " <h3 class=\"cb-list-heading\">Kyle Jamieson<img src=\"/images/cricbuzz/away.png\" style=\"margin-left:2px\" width=\"12px\"/></h3>,\n",
              " <h3 class=\"cb-list-heading\">Ruturaj Gaikwad</h3>,\n",
              " <h3 class=\"cb-list-heading\">Ajinkya Rahane</h3>,\n",
              " <h3 class=\"cb-list-heading\">Shaik Rasheed</h3>,\n",
              " <h3 class=\"cb-list-heading\">Subhranshu Senapati</h3>,\n",
              " <h3 class=\"cb-list-heading\">Devon Conway<img src=\"/images/cricbuzz/away.png\" style=\"margin-left:2px\" width=\"12px\"/></h3>,\n",
              " <h3 class=\"cb-list-heading\">Matheesha Pathirana<img src=\"/images/cricbuzz/away.png\" style=\"margin-left:2px\" width=\"12px\"/></h3>,\n",
              " <h3 class=\"cb-list-heading\">Maheesh Theekshana<img src=\"/images/cricbuzz/away.png\" style=\"margin-left:2px\" width=\"12px\"/></h3>,\n",
              " <h3 class=\"cb-list-heading\">Rajvardhan Hangargekar</h3>,\n",
              " <h3 class=\"cb-list-heading\">Tushar Deshpande</h3>,\n",
              " <h3 class=\"cb-list-heading\">Deepak Chahar</h3>,\n",
              " <h3 class=\"cb-list-heading\">Simarjeet Singh</h3>,\n",
              " <h3 class=\"cb-list-heading\">Mukesh Choudhary</h3>,\n",
              " <h3 class=\"cb-list-heading\">Prashant Solanki</h3>,\n",
              " <h3 class=\"cb-list-heading\">MS Dhoni</h3>,\n",
              " <h3 class=\"cb-list-heading\">Ambati Rayudu</h3>]"
            ]
          },
          "metadata": {},
          "execution_count": 16
        }
      ]
    },
    {
      "cell_type": "code",
      "source": [
        "players=[]\n",
        "for i in scrap:\n",
        "  i=i.text\n",
        "  players.append(i)"
      ],
      "metadata": {
        "id": "ZFv_z28QnCyf"
      },
      "execution_count": 17,
      "outputs": []
    },
    {
      "cell_type": "code",
      "source": [
        "players"
      ],
      "metadata": {
        "colab": {
          "base_uri": "https://localhost:8080/"
        },
        "id": "XGuXMx6YngB3",
        "outputId": "ab46c7fa-7c0c-4fd2-d876-5e9ade0f52bc"
      },
      "execution_count": 18,
      "outputs": [
        {
          "output_type": "execute_result",
          "data": {
            "text/plain": [
              "['Ravindra Jadeja',\n",
              " 'Mitchell Santner',\n",
              " 'Moeen Ali',\n",
              " 'Ajay Jadav Mandal',\n",
              " 'Dwaine Pretorius',\n",
              " 'Nishant Sindhu',\n",
              " 'Shivam Dube',\n",
              " 'Ben Stokes',\n",
              " 'Bhagath Varma',\n",
              " 'Kyle Jamieson',\n",
              " 'Ruturaj Gaikwad',\n",
              " 'Ajinkya Rahane',\n",
              " 'Shaik Rasheed',\n",
              " 'Subhranshu Senapati',\n",
              " 'Devon Conway',\n",
              " 'Matheesha Pathirana',\n",
              " 'Maheesh Theekshana',\n",
              " 'Rajvardhan Hangargekar',\n",
              " 'Tushar Deshpande',\n",
              " 'Deepak Chahar',\n",
              " 'Simarjeet Singh',\n",
              " 'Mukesh Choudhary',\n",
              " 'Prashant Solanki',\n",
              " 'MS Dhoni',\n",
              " 'Ambati Rayudu']"
            ]
          },
          "metadata": {},
          "execution_count": 18
        }
      ]
    },
    {
      "cell_type": "code",
      "source": [
        "scrap2=content.find_all('p',attrs={'class':\"cb-list-intro-text\"})\n",
        "scrap2"
      ],
      "metadata": {
        "colab": {
          "base_uri": "https://localhost:8080/"
        },
        "id": "BZBfHR8lnheb",
        "outputId": "4e21a24c-49cd-4ead-a5c4-c36a6d659818"
      },
      "execution_count": 20,
      "outputs": [
        {
          "output_type": "execute_result",
          "data": {
            "text/plain": [
              "[<p class=\"cb-list-intro-text\">Allrounder • India</p>,\n",
              " <p class=\"cb-list-intro-text\">Allrounder • New Zealand</p>,\n",
              " <p class=\"cb-list-intro-text\">Allrounder • England</p>,\n",
              " <p class=\"cb-list-intro-text\">Allrounder • India</p>,\n",
              " <p class=\"cb-list-intro-text\">Allrounder • South Africa</p>,\n",
              " <p class=\"cb-list-intro-text\">Allrounder • India</p>,\n",
              " <p class=\"cb-list-intro-text\">Allrounder • India</p>,\n",
              " <p class=\"cb-list-intro-text\">Allrounder • England</p>,\n",
              " <p class=\"cb-list-intro-text\">Allrounder • India</p>,\n",
              " <p class=\"cb-list-intro-text\">Allrounder • New Zealand</p>,\n",
              " <p class=\"cb-list-intro-text\">Batter • India</p>,\n",
              " <p class=\"cb-list-intro-text\">Batter • India</p>,\n",
              " <p class=\"cb-list-intro-text\">Batter • India</p>,\n",
              " <p class=\"cb-list-intro-text\">Batter • India</p>,\n",
              " <p class=\"cb-list-intro-text\">Batter • New Zealand</p>,\n",
              " <p class=\"cb-list-intro-text\">Bowler • Sri Lanka</p>,\n",
              " <p class=\"cb-list-intro-text\">Bowler • Sri Lanka</p>,\n",
              " <p class=\"cb-list-intro-text\">Bowler • India</p>,\n",
              " <p class=\"cb-list-intro-text\">Bowler • India</p>,\n",
              " <p class=\"cb-list-intro-text\">Bowler • India</p>,\n",
              " <p class=\"cb-list-intro-text\">Bowler • India</p>,\n",
              " <p class=\"cb-list-intro-text\">Bowler • India</p>,\n",
              " <p class=\"cb-list-intro-text\">Bowler • India</p>,\n",
              " <p class=\"cb-list-intro-text\">WK-Batter • India</p>,\n",
              " <p class=\"cb-list-intro-text\">WK-Batter • India</p>]"
            ]
          },
          "metadata": {},
          "execution_count": 20
        }
      ]
    },
    {
      "cell_type": "code",
      "source": [
        "player_type_country=[]\n",
        "for i in scrap2:\n",
        "  i=i.text\n",
        "  player_type_country.append(i)"
      ],
      "metadata": {
        "id": "u1sv1fP3n6li"
      },
      "execution_count": 23,
      "outputs": []
    },
    {
      "cell_type": "code",
      "source": [
        "player_type_country"
      ],
      "metadata": {
        "colab": {
          "base_uri": "https://localhost:8080/"
        },
        "id": "CF8jbPtioSDo",
        "outputId": "89a32509-c6a6-4757-a91c-1d7fc33f4f33"
      },
      "execution_count": 24,
      "outputs": [
        {
          "output_type": "execute_result",
          "data": {
            "text/plain": [
              "['Allrounder • India',\n",
              " 'Allrounder • New Zealand',\n",
              " 'Allrounder • England',\n",
              " 'Allrounder • India',\n",
              " 'Allrounder • South Africa',\n",
              " 'Allrounder • India',\n",
              " 'Allrounder • India',\n",
              " 'Allrounder • England',\n",
              " 'Allrounder • India',\n",
              " 'Allrounder • New Zealand',\n",
              " 'Batter • India',\n",
              " 'Batter • India',\n",
              " 'Batter • India',\n",
              " 'Batter • India',\n",
              " 'Batter • New Zealand',\n",
              " 'Bowler • Sri Lanka',\n",
              " 'Bowler • Sri Lanka',\n",
              " 'Bowler • India',\n",
              " 'Bowler • India',\n",
              " 'Bowler • India',\n",
              " 'Bowler • India',\n",
              " 'Bowler • India',\n",
              " 'Bowler • India',\n",
              " 'WK-Batter • India',\n",
              " 'WK-Batter • India']"
            ]
          },
          "metadata": {},
          "execution_count": 24
        }
      ]
    },
    {
      "cell_type": "code",
      "source": [
        "player_type=[]\n",
        "native_country=[]\n",
        "\n",
        "for i in player_type_country:\n",
        "  players_parts=i.split(\"•\")\n",
        "  if len(players_parts)==2:\n",
        "    types =players_parts[0].strip()\n",
        "    country=players_parts[1].strip()\n",
        "\n",
        "    player_type.append(types)\n",
        "    native_country.append(country)\n"
      ],
      "metadata": {
        "id": "SH4mux_PoTsx"
      },
      "execution_count": 31,
      "outputs": []
    },
    {
      "cell_type": "code",
      "source": [
        "print(player_type)\n",
        "print(native_country)"
      ],
      "metadata": {
        "colab": {
          "base_uri": "https://localhost:8080/"
        },
        "id": "XKdVcqkDo6eF",
        "outputId": "82b11af2-7027-4231-d017-924a5fc3feaf"
      },
      "execution_count": 32,
      "outputs": [
        {
          "output_type": "stream",
          "name": "stdout",
          "text": [
            "['Allrounder', 'Allrounder', 'Allrounder', 'Allrounder', 'Allrounder', 'Allrounder', 'Allrounder', 'Allrounder', 'Allrounder', 'Allrounder', 'Batter', 'Batter', 'Batter', 'Batter', 'Batter', 'Bowler', 'Bowler', 'Bowler', 'Bowler', 'Bowler', 'Bowler', 'Bowler', 'Bowler', 'WK-Batter', 'WK-Batter']\n",
            "['India', 'New Zealand', 'England', 'India', 'South Africa', 'India', 'India', 'England', 'India', 'New Zealand', 'India', 'India', 'India', 'India', 'New Zealand', 'Sri Lanka', 'Sri Lanka', 'India', 'India', 'India', 'India', 'India', 'India', 'India', 'India']\n"
          ]
        }
      ]
    },
    {
      "cell_type": "code",
      "source": [
        "player_type"
      ],
      "metadata": {
        "colab": {
          "base_uri": "https://localhost:8080/"
        },
        "id": "uR6k9_1VrRt6",
        "outputId": "01e78033-cab4-467d-d12c-917ad3f7b76c"
      },
      "execution_count": 33,
      "outputs": [
        {
          "output_type": "execute_result",
          "data": {
            "text/plain": [
              "['Allrounder',\n",
              " 'Allrounder',\n",
              " 'Allrounder',\n",
              " 'Allrounder',\n",
              " 'Allrounder',\n",
              " 'Allrounder',\n",
              " 'Allrounder',\n",
              " 'Allrounder',\n",
              " 'Allrounder',\n",
              " 'Allrounder',\n",
              " 'Batter',\n",
              " 'Batter',\n",
              " 'Batter',\n",
              " 'Batter',\n",
              " 'Batter',\n",
              " 'Bowler',\n",
              " 'Bowler',\n",
              " 'Bowler',\n",
              " 'Bowler',\n",
              " 'Bowler',\n",
              " 'Bowler',\n",
              " 'Bowler',\n",
              " 'Bowler',\n",
              " 'WK-Batter',\n",
              " 'WK-Batter']"
            ]
          },
          "metadata": {},
          "execution_count": 33
        }
      ]
    },
    {
      "cell_type": "code",
      "source": [
        "native_country"
      ],
      "metadata": {
        "colab": {
          "base_uri": "https://localhost:8080/"
        },
        "id": "5AhEM8yKrcwQ",
        "outputId": "21f5e3f0-5877-416d-9f3c-4a43e647a6b4"
      },
      "execution_count": 34,
      "outputs": [
        {
          "output_type": "execute_result",
          "data": {
            "text/plain": [
              "['India',\n",
              " 'New Zealand',\n",
              " 'England',\n",
              " 'India',\n",
              " 'South Africa',\n",
              " 'India',\n",
              " 'India',\n",
              " 'England',\n",
              " 'India',\n",
              " 'New Zealand',\n",
              " 'India',\n",
              " 'India',\n",
              " 'India',\n",
              " 'India',\n",
              " 'New Zealand',\n",
              " 'Sri Lanka',\n",
              " 'Sri Lanka',\n",
              " 'India',\n",
              " 'India',\n",
              " 'India',\n",
              " 'India',\n",
              " 'India',\n",
              " 'India',\n",
              " 'India',\n",
              " 'India']"
            ]
          },
          "metadata": {},
          "execution_count": 34
        }
      ]
    },
    {
      "cell_type": "code",
      "source": [
        "scrap3=[]\n",
        "price_with_status= content.find_all('div', attrs={'class':\"col-xs-4 cb-col-text-container text-center\"})\n",
        "price_with_status"
      ],
      "metadata": {
        "colab": {
          "base_uri": "https://localhost:8080/"
        },
        "id": "hHcJFZF5rfic",
        "outputId": "e9706b1e-43dd-4061-b9d5-9e502aa709f3"
      },
      "execution_count": 35,
      "outputs": [
        {
          "output_type": "execute_result",
          "data": {
            "text/plain": [
              "[<div class=\"col-xs-4 cb-col-text-container text-center\">\t16.00  Crore <div class=\"badge bg-rtm\"> RETAINED </div> </div>,\n",
              " <div class=\"col-xs-4 cb-col-text-container text-center\">\t1.90  Crore <div class=\"badge bg-rtm\"> RETAINED </div> </div>,\n",
              " <div class=\"col-xs-4 cb-col-text-container text-center\">\t8.00  Crore <div class=\"badge bg-rtm\"> RETAINED </div> </div>,\n",
              " <div class=\"col-xs-4 cb-col-text-container text-center\">\t20.00  Lakh </div>,\n",
              " <div class=\"col-xs-4 cb-col-text-container text-center\">\t50.00  Lakh <div class=\"badge bg-rtm\"> RETAINED </div> </div>,\n",
              " <div class=\"col-xs-4 cb-col-text-container text-center\">\t60.00  Lakh </div>,\n",
              " <div class=\"col-xs-4 cb-col-text-container text-center\">\t4.00  Crore <div class=\"badge bg-rtm\"> RETAINED </div> </div>,\n",
              " <div class=\"col-xs-4 cb-col-text-container text-center\">\t16.25  Crore </div>,\n",
              " <div class=\"col-xs-4 cb-col-text-container text-center\">\t20.00  Lakh </div>,\n",
              " <div class=\"col-xs-4 cb-col-text-container text-center\">\t1.00  Crore </div>,\n",
              " <div class=\"col-xs-4 cb-col-text-container text-center\">\t6.00  Crore <div class=\"badge bg-rtm\"> RETAINED </div> </div>,\n",
              " <div class=\"col-xs-4 cb-col-text-container text-center\">\t50.00  Lakh </div>,\n",
              " <div class=\"col-xs-4 cb-col-text-container text-center\">\t20.00  Lakh </div>,\n",
              " <div class=\"col-xs-4 cb-col-text-container text-center\">\t20.00  Lakh <div class=\"badge bg-rtm\"> RETAINED </div> </div>,\n",
              " <div class=\"col-xs-4 cb-col-text-container text-center\">\t1.00  Crore <div class=\"badge bg-rtm\"> RETAINED </div> </div>,\n",
              " <div class=\"col-xs-4 cb-col-text-container text-center\">\t20.00  Lakh <div class=\"badge bg-rtm\"> RETAINED </div> </div>,\n",
              " <div class=\"col-xs-4 cb-col-text-container text-center\">\t70.00  Lakh <div class=\"badge bg-rtm\"> RETAINED </div> </div>,\n",
              " <div class=\"col-xs-4 cb-col-text-container text-center\">\t1.50  Crore <div class=\"badge bg-rtm\"> RETAINED </div> </div>,\n",
              " <div class=\"col-xs-4 cb-col-text-container text-center\">\t20.00  Lakh <div class=\"badge bg-rtm\"> RETAINED </div> </div>,\n",
              " <div class=\"col-xs-4 cb-col-text-container text-center\">\t14.00  Crore <div class=\"badge bg-rtm\"> RETAINED </div> </div>,\n",
              " <div class=\"col-xs-4 cb-col-text-container text-center\">\t20.00  Lakh <div class=\"badge bg-rtm\"> RETAINED </div> </div>,\n",
              " <div class=\"col-xs-4 cb-col-text-container text-center\">\t20.00  Lakh <div class=\"badge bg-rtm\"> RETAINED </div> </div>,\n",
              " <div class=\"col-xs-4 cb-col-text-container text-center\">\t1.20  Crore <div class=\"badge bg-rtm\"> RETAINED </div> </div>,\n",
              " <div class=\"col-xs-4 cb-col-text-container text-center\">\t12.00  Crore <div class=\"badge bg-rtm\"> RETAINED </div> </div>,\n",
              " <div class=\"col-xs-4 cb-col-text-container text-center\">\t6.75  Crore <div class=\"badge bg-rtm\"> RETAINED </div> </div>]"
            ]
          },
          "metadata": {},
          "execution_count": 35
        }
      ]
    },
    {
      "cell_type": "code",
      "source": [
        "final_price_tag=[]\n",
        "for i in price_with_status:\n",
        "  i=i.text\n",
        "  final_price_tag.append(i)\n",
        "final_price_tag"
      ],
      "metadata": {
        "colab": {
          "base_uri": "https://localhost:8080/"
        },
        "id": "uzz2fZH3sTLr",
        "outputId": "197ef338-ad59-4966-fcea-9bc917deb589"
      },
      "execution_count": 36,
      "outputs": [
        {
          "output_type": "execute_result",
          "data": {
            "text/plain": [
              "['\\t16.00\\xa0\\xa0Crore  RETAINED  ',\n",
              " '\\t1.90\\xa0\\xa0Crore  RETAINED  ',\n",
              " '\\t8.00\\xa0\\xa0Crore  RETAINED  ',\n",
              " '\\t20.00\\xa0\\xa0Lakh ',\n",
              " '\\t50.00\\xa0\\xa0Lakh  RETAINED  ',\n",
              " '\\t60.00\\xa0\\xa0Lakh ',\n",
              " '\\t4.00\\xa0\\xa0Crore  RETAINED  ',\n",
              " '\\t16.25\\xa0\\xa0Crore ',\n",
              " '\\t20.00\\xa0\\xa0Lakh ',\n",
              " '\\t1.00\\xa0\\xa0Crore ',\n",
              " '\\t6.00\\xa0\\xa0Crore  RETAINED  ',\n",
              " '\\t50.00\\xa0\\xa0Lakh ',\n",
              " '\\t20.00\\xa0\\xa0Lakh ',\n",
              " '\\t20.00\\xa0\\xa0Lakh  RETAINED  ',\n",
              " '\\t1.00\\xa0\\xa0Crore  RETAINED  ',\n",
              " '\\t20.00\\xa0\\xa0Lakh  RETAINED  ',\n",
              " '\\t70.00\\xa0\\xa0Lakh  RETAINED  ',\n",
              " '\\t1.50\\xa0\\xa0Crore  RETAINED  ',\n",
              " '\\t20.00\\xa0\\xa0Lakh  RETAINED  ',\n",
              " '\\t14.00\\xa0\\xa0Crore  RETAINED  ',\n",
              " '\\t20.00\\xa0\\xa0Lakh  RETAINED  ',\n",
              " '\\t20.00\\xa0\\xa0Lakh  RETAINED  ',\n",
              " '\\t1.20\\xa0\\xa0Crore  RETAINED  ',\n",
              " '\\t12.00\\xa0\\xa0Crore  RETAINED  ',\n",
              " '\\t6.75\\xa0\\xa0Crore  RETAINED  ']"
            ]
          },
          "metadata": {},
          "execution_count": 36
        }
      ]
    },
    {
      "cell_type": "code",
      "source": [
        "sold_price=[]\n",
        "\n",
        "for i in final_price_tag:\n",
        "  details=i.split()\n",
        "  if len(details)==3:\n",
        "    price=details[0]+ details[1].strip()\n",
        "    sold_price.append(price)\n",
        ""
      ],
      "metadata": {
        "id": "GoyTq4yotAW7"
      },
      "execution_count": 43,
      "outputs": []
    },
    {
      "cell_type": "code",
      "source": [
        "sold_price"
      ],
      "metadata": {
        "colab": {
          "base_uri": "https://localhost:8080/"
        },
        "id": "mpB2b3E1v5oV",
        "outputId": "65f9252c-898c-46dc-a654-204c8a1e9ed8"
      },
      "execution_count": 44,
      "outputs": [
        {
          "output_type": "execute_result",
          "data": {
            "text/plain": [
              "['16.00Crore',\n",
              " '1.90Crore',\n",
              " '8.00Crore',\n",
              " '50.00Lakh',\n",
              " '4.00Crore',\n",
              " '6.00Crore',\n",
              " '20.00Lakh',\n",
              " '1.00Crore',\n",
              " '20.00Lakh',\n",
              " '70.00Lakh',\n",
              " '1.50Crore',\n",
              " '20.00Lakh',\n",
              " '14.00Crore',\n",
              " '20.00Lakh',\n",
              " '20.00Lakh',\n",
              " '1.20Crore',\n",
              " '12.00Crore',\n",
              " '6.75Crore']"
            ]
          },
          "metadata": {},
          "execution_count": 44
        }
      ]
    },
    {
      "cell_type": "code",
      "source": [
        "convert_to_dataframe=[players,player_type,native_country,sold_price]\n",
        "final_data=pd.DataFrame(convert_to_dataframe)"
      ],
      "metadata": {
        "id": "3sW8Z_Sew18w"
      },
      "execution_count": 45,
      "outputs": []
    },
    {
      "cell_type": "code",
      "source": [
        "structured_data= final_data.T\n",
        "structured_data.head()"
      ],
      "metadata": {
        "colab": {
          "base_uri": "https://localhost:8080/",
          "height": 206
        },
        "id": "OTcLt2aixbgd",
        "outputId": "8b776e55-4e2c-4258-f202-451afa2ab29f"
      },
      "execution_count": 52,
      "outputs": [
        {
          "output_type": "execute_result",
          "data": {
            "text/plain": [
              "                   0           1             2           3\n",
              "0    Ravindra Jadeja  Allrounder         India  16.00Crore\n",
              "1   Mitchell Santner  Allrounder   New Zealand   1.90Crore\n",
              "2          Moeen Ali  Allrounder       England   8.00Crore\n",
              "3  Ajay Jadav Mandal  Allrounder         India   50.00Lakh\n",
              "4   Dwaine Pretorius  Allrounder  South Africa   4.00Crore"
            ],
            "text/html": [
              "\n",
              "  <div id=\"df-496b8be0-fa03-4327-bc85-517ea1c5b7c3\" class=\"colab-df-container\">\n",
              "    <div>\n",
              "<style scoped>\n",
              "    .dataframe tbody tr th:only-of-type {\n",
              "        vertical-align: middle;\n",
              "    }\n",
              "\n",
              "    .dataframe tbody tr th {\n",
              "        vertical-align: top;\n",
              "    }\n",
              "\n",
              "    .dataframe thead th {\n",
              "        text-align: right;\n",
              "    }\n",
              "</style>\n",
              "<table border=\"1\" class=\"dataframe\">\n",
              "  <thead>\n",
              "    <tr style=\"text-align: right;\">\n",
              "      <th></th>\n",
              "      <th>0</th>\n",
              "      <th>1</th>\n",
              "      <th>2</th>\n",
              "      <th>3</th>\n",
              "    </tr>\n",
              "  </thead>\n",
              "  <tbody>\n",
              "    <tr>\n",
              "      <th>0</th>\n",
              "      <td>Ravindra Jadeja</td>\n",
              "      <td>Allrounder</td>\n",
              "      <td>India</td>\n",
              "      <td>16.00Crore</td>\n",
              "    </tr>\n",
              "    <tr>\n",
              "      <th>1</th>\n",
              "      <td>Mitchell Santner</td>\n",
              "      <td>Allrounder</td>\n",
              "      <td>New Zealand</td>\n",
              "      <td>1.90Crore</td>\n",
              "    </tr>\n",
              "    <tr>\n",
              "      <th>2</th>\n",
              "      <td>Moeen Ali</td>\n",
              "      <td>Allrounder</td>\n",
              "      <td>England</td>\n",
              "      <td>8.00Crore</td>\n",
              "    </tr>\n",
              "    <tr>\n",
              "      <th>3</th>\n",
              "      <td>Ajay Jadav Mandal</td>\n",
              "      <td>Allrounder</td>\n",
              "      <td>India</td>\n",
              "      <td>50.00Lakh</td>\n",
              "    </tr>\n",
              "    <tr>\n",
              "      <th>4</th>\n",
              "      <td>Dwaine Pretorius</td>\n",
              "      <td>Allrounder</td>\n",
              "      <td>South Africa</td>\n",
              "      <td>4.00Crore</td>\n",
              "    </tr>\n",
              "  </tbody>\n",
              "</table>\n",
              "</div>\n",
              "    <div class=\"colab-df-buttons\">\n",
              "\n",
              "  <div class=\"colab-df-container\">\n",
              "    <button class=\"colab-df-convert\" onclick=\"convertToInteractive('df-496b8be0-fa03-4327-bc85-517ea1c5b7c3')\"\n",
              "            title=\"Convert this dataframe to an interactive table.\"\n",
              "            style=\"display:none;\">\n",
              "\n",
              "  <svg xmlns=\"http://www.w3.org/2000/svg\" height=\"24px\" viewBox=\"0 -960 960 960\">\n",
              "    <path d=\"M120-120v-720h720v720H120Zm60-500h600v-160H180v160Zm220 220h160v-160H400v160Zm0 220h160v-160H400v160ZM180-400h160v-160H180v160Zm440 0h160v-160H620v160ZM180-180h160v-160H180v160Zm440 0h160v-160H620v160Z\"/>\n",
              "  </svg>\n",
              "    </button>\n",
              "\n",
              "  <style>\n",
              "    .colab-df-container {\n",
              "      display:flex;\n",
              "      gap: 12px;\n",
              "    }\n",
              "\n",
              "    .colab-df-convert {\n",
              "      background-color: #E8F0FE;\n",
              "      border: none;\n",
              "      border-radius: 50%;\n",
              "      cursor: pointer;\n",
              "      display: none;\n",
              "      fill: #1967D2;\n",
              "      height: 32px;\n",
              "      padding: 0 0 0 0;\n",
              "      width: 32px;\n",
              "    }\n",
              "\n",
              "    .colab-df-convert:hover {\n",
              "      background-color: #E2EBFA;\n",
              "      box-shadow: 0px 1px 2px rgba(60, 64, 67, 0.3), 0px 1px 3px 1px rgba(60, 64, 67, 0.15);\n",
              "      fill: #174EA6;\n",
              "    }\n",
              "\n",
              "    .colab-df-buttons div {\n",
              "      margin-bottom: 4px;\n",
              "    }\n",
              "\n",
              "    [theme=dark] .colab-df-convert {\n",
              "      background-color: #3B4455;\n",
              "      fill: #D2E3FC;\n",
              "    }\n",
              "\n",
              "    [theme=dark] .colab-df-convert:hover {\n",
              "      background-color: #434B5C;\n",
              "      box-shadow: 0px 1px 3px 1px rgba(0, 0, 0, 0.15);\n",
              "      filter: drop-shadow(0px 1px 2px rgba(0, 0, 0, 0.3));\n",
              "      fill: #FFFFFF;\n",
              "    }\n",
              "  </style>\n",
              "\n",
              "    <script>\n",
              "      const buttonEl =\n",
              "        document.querySelector('#df-496b8be0-fa03-4327-bc85-517ea1c5b7c3 button.colab-df-convert');\n",
              "      buttonEl.style.display =\n",
              "        google.colab.kernel.accessAllowed ? 'block' : 'none';\n",
              "\n",
              "      async function convertToInteractive(key) {\n",
              "        const element = document.querySelector('#df-496b8be0-fa03-4327-bc85-517ea1c5b7c3');\n",
              "        const dataTable =\n",
              "          await google.colab.kernel.invokeFunction('convertToInteractive',\n",
              "                                                    [key], {});\n",
              "        if (!dataTable) return;\n",
              "\n",
              "        const docLinkHtml = 'Like what you see? Visit the ' +\n",
              "          '<a target=\"_blank\" href=https://colab.research.google.com/notebooks/data_table.ipynb>data table notebook</a>'\n",
              "          + ' to learn more about interactive tables.';\n",
              "        element.innerHTML = '';\n",
              "        dataTable['output_type'] = 'display_data';\n",
              "        await google.colab.output.renderOutput(dataTable, element);\n",
              "        const docLink = document.createElement('div');\n",
              "        docLink.innerHTML = docLinkHtml;\n",
              "        element.appendChild(docLink);\n",
              "      }\n",
              "    </script>\n",
              "  </div>\n",
              "\n",
              "\n",
              "<div id=\"df-762e24e2-fab1-4c98-9585-712121f3ca91\">\n",
              "  <button class=\"colab-df-quickchart\" onclick=\"quickchart('df-762e24e2-fab1-4c98-9585-712121f3ca91')\"\n",
              "            title=\"Suggest charts.\"\n",
              "            style=\"display:none;\">\n",
              "\n",
              "<svg xmlns=\"http://www.w3.org/2000/svg\" height=\"24px\"viewBox=\"0 0 24 24\"\n",
              "     width=\"24px\">\n",
              "    <g>\n",
              "        <path d=\"M19 3H5c-1.1 0-2 .9-2 2v14c0 1.1.9 2 2 2h14c1.1 0 2-.9 2-2V5c0-1.1-.9-2-2-2zM9 17H7v-7h2v7zm4 0h-2V7h2v10zm4 0h-2v-4h2v4z\"/>\n",
              "    </g>\n",
              "</svg>\n",
              "  </button>\n",
              "\n",
              "<style>\n",
              "  .colab-df-quickchart {\n",
              "    background-color: #E8F0FE;\n",
              "    border: none;\n",
              "    border-radius: 50%;\n",
              "    cursor: pointer;\n",
              "    display: none;\n",
              "    fill: #1967D2;\n",
              "    height: 32px;\n",
              "    padding: 0 0 0 0;\n",
              "    width: 32px;\n",
              "  }\n",
              "\n",
              "  .colab-df-quickchart:hover {\n",
              "    background-color: #E2EBFA;\n",
              "    box-shadow: 0px 1px 2px rgba(60, 64, 67, 0.3), 0px 1px 3px 1px rgba(60, 64, 67, 0.15);\n",
              "    fill: #174EA6;\n",
              "  }\n",
              "\n",
              "  [theme=dark] .colab-df-quickchart {\n",
              "    background-color: #3B4455;\n",
              "    fill: #D2E3FC;\n",
              "  }\n",
              "\n",
              "  [theme=dark] .colab-df-quickchart:hover {\n",
              "    background-color: #434B5C;\n",
              "    box-shadow: 0px 1px 3px 1px rgba(0, 0, 0, 0.15);\n",
              "    filter: drop-shadow(0px 1px 2px rgba(0, 0, 0, 0.3));\n",
              "    fill: #FFFFFF;\n",
              "  }\n",
              "</style>\n",
              "\n",
              "  <script>\n",
              "    async function quickchart(key) {\n",
              "      const charts = await google.colab.kernel.invokeFunction(\n",
              "          'suggestCharts', [key], {});\n",
              "    }\n",
              "    (() => {\n",
              "      let quickchartButtonEl =\n",
              "        document.querySelector('#df-762e24e2-fab1-4c98-9585-712121f3ca91 button');\n",
              "      quickchartButtonEl.style.display =\n",
              "        google.colab.kernel.accessAllowed ? 'block' : 'none';\n",
              "    })();\n",
              "  </script>\n",
              "</div>\n",
              "    </div>\n",
              "  </div>\n"
            ]
          },
          "metadata": {},
          "execution_count": 52
        }
      ]
    },
    {
      "cell_type": "code",
      "source": [],
      "metadata": {
        "id": "WjOLrk6Vxdmy"
      },
      "execution_count": null,
      "outputs": []
    }
  ]
}